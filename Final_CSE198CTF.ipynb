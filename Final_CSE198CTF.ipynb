{
  "nbformat": 4,
  "nbformat_minor": 0,
  "metadata": {
    "colab": {
      "provenance": [],
      "include_colab_link": true
    },
    "kernelspec": {
      "name": "python3",
      "display_name": "Python 3"
    },
    "language_info": {
      "name": "python"
    }
  },
  "cells": [
    {
      "cell_type": "markdown",
      "metadata": {
        "id": "view-in-github",
        "colab_type": "text"
      },
      "source": [
        "<a href=\"https://colab.research.google.com/github/jdweak/CSE198-CTF/blob/main/Final_CSE198CTF.ipynb\" target=\"_parent\"><img src=\"https://colab.research.google.com/assets/colab-badge.svg\" alt=\"Open In Colab\"/></a>"
      ]
    },
    {
      "cell_type": "markdown",
      "source": [
        "# CTF: Password Cracking\n",
        "\n",
        "To really understand password security and best practices, in this mock CTF we'll explore and implement password cracking techniques. Our dataset will draw from the OWASP project's dataset of the most common passwords (https://github.com/danielmiessler/SecLists/tree/master)."
      ],
      "metadata": {
        "id": "K5DLVFpcxkc8"
      }
    },
    {
      "cell_type": "markdown",
      "source": [
        "## Flag 1: Finding passwords in a plaintext list (1 pt)\n",
        "\n",
        "A common security flaw in early websites was storing password databases in plaintext (without hashing). This meant that for any of these websites, if a hacker got access to the database (for example through SQL injection) they could easily find the password of any user regardless of password strength.\n",
        "\n",
        "For this flag, first run the code snippet below, then look in the plaintext_passwords.csv file (a list of the top 50 most common passwords) and find the password of user 16 (look at files by clicking on the folder symbol on the left of your screen and going into the CSE198-CTF folder). When you find it assign the variable FLAG1 in the cell below to the password and run the cell."
      ],
      "metadata": {
        "id": "grhlU8JJzDzn"
      }
    },
    {
      "cell_type": "code",
      "source": [
        "# Run this code to import password files needed for later\n",
        "!git clone https://github.com/jdweak/CSE198-CTF.git"
      ],
      "metadata": {
        "colab": {
          "base_uri": "https://localhost:8080/"
        },
        "id": "lnqa0edxHoMy",
        "outputId": "9ffd07c4-e4e7-4bb9-a26c-eaa45e465835"
      },
      "execution_count": 2,
      "outputs": [
        {
          "output_type": "stream",
          "name": "stdout",
          "text": [
            "Cloning into 'CSE198-CTF'...\n",
            "remote: Enumerating objects: 30, done.\u001b[K\n",
            "remote: Counting objects: 100% (30/30), done.\u001b[K\n",
            "remote: Compressing objects: 100% (28/28), done.\u001b[K\n",
            "remote: Total 30 (delta 11), reused 0 (delta 0), pack-reused 0 (from 0)\u001b[K\n",
            "Receiving objects: 100% (30/30), 56.57 KiB | 782.00 KiB/s, done.\n",
            "Resolving deltas: 100% (11/11), done.\n"
          ]
        }
      ]
    },
    {
      "cell_type": "code",
      "source": [
        "FLAG1 = \"user 16's password\""
      ],
      "metadata": {
        "id": "E3vFIQKez2MH"
      },
      "execution_count": 3,
      "outputs": []
    },
    {
      "cell_type": "markdown",
      "source": [
        "## Flag 2: Basic Password Hashing & Dictionary Attack (3 points)\n",
        "\n",
        "Flag 1 should have demonstrated why hashing passwords is so important to ensure security. With hashed passwords, instead of seeing a table full of everyone's password, you now see a bunch of long strings which were encrypted with an irreversable hashing algorithm (in this case SHA256). So instead of seeing the plaintext of user 36's password in our table, we now see this:\n",
        "\n",
        "\n",
        "\n",
        "```\n",
        "User ID: 16 || SHA256 Hash: 1c8bfe8f801d79745c4631d09fff36c82aa37fc4cce4fc946683d7b336b63032\n",
        "```\n",
        "\n",
        "Not so easy to get the credentials now. For this next challenge, we're going to implement a dictionary attack to crack a user's password. In this case, our dictionary will be a subset of the list of the top 1000 most common passwords (passwords 501-950). Use the provided hash_SHA256 method and list of passwords to find the plaintext of the hashed password below:\n",
        "\n",
        "\n",
        "```\n",
        "8bd10698229d26627eb039ac20f4537b62c6687ccb2892590bc7a3691659e892\n",
        "```\n",
        "\n",
        "Once you figure out the plaintext password, paste it into the FLAG2 variable below like you did in flag 1.\n"
      ],
      "metadata": {
        "id": "noZrNBKcz6t8"
      }
    },
    {
      "cell_type": "code",
      "source": [
        "import hashlib\n",
        "\n",
        "# This method allows you to hash any string using the SHA256 algorithm.\n",
        "def hash_SHA256(password):\n",
        "  sha256_hash = hashlib.sha256(password.encode('utf-8')).hexdigest()\n",
        "  return sha256_hash"
      ],
      "metadata": {
        "id": "eL03E3LYUR4z"
      },
      "execution_count": 4,
      "outputs": []
    },
    {
      "cell_type": "code",
      "source": [
        "# Read the password file into a list called plaintexts\n",
        "with open('/content/CSE198-CTF/plaintext_dictionary.csv.csv', 'r') as f:\n",
        "    plaintexts = [line.strip() for line in f]\n",
        "\n",
        "# print out the first plaintext in the list\n",
        "print(plaintexts[0])\n",
        "\n",
        "\n",
        "# HINT: If you as a person were given a list of the most common passwords and instructions\n",
        "# on how to hash a password, how would you do this task by hand?\n",
        "\n",
        "# Your code goes here\n"
      ],
      "metadata": {
        "colab": {
          "base_uri": "https://localhost:8080/"
        },
        "id": "d9g3OE87B4kC",
        "outputId": "91c10f59-d62e-4dcf-9aa9-0c2b835acbba"
      },
      "execution_count": 5,
      "outputs": [
        {
          "output_type": "stream",
          "name": "stdout",
          "text": [
            "123456\n"
          ]
        }
      ]
    },
    {
      "cell_type": "code",
      "source": [
        "FLAG2 = \"plaintext password\""
      ],
      "metadata": {
        "id": "SYp16FxX6zj4"
      },
      "execution_count": null,
      "outputs": []
    },
    {
      "cell_type": "markdown",
      "source": [
        "## Flag 3: Rainbow Table Attack\n",
        "As we saw in the previous flag, the dictionary attack is a quick and easy way to crack commonly used or leaked passwords. However, in the real world simple dictionary attacks can still be very slow. Many encryption algorithms specifically designed for password hashing like Bcrypt, Argon2, or scrypt are designed to be much slower to improve resistance against password cracking. Additionally, when our dictionary grows from a few hundred passwords to millions, you can see how dictionary attacks can become quite slow.\n",
        "\n",
        "To fix this, we will implement a rainbow table attack. Rainbow table attacks are similar to dictionary attacks, but instead of taking a list of plaintext passwords and hashing them all in our algorithm we will take a precomputed list of password hashes and their corresponding plaintext passwords and search it for the password we are trying to crack. In this excersise, use the rainbow_table.csv file (mapping the top 500 most common passwords to their SHA256 hashes) to quickly find the password associated with the hash\n",
        "```\n",
        "8fced00b6ce281456d69daef5f2b33eaf1a4a29b5923ebe5f1f2c54f5886c7a3\n",
        "```\n",
        "\n",
        "*Side note: In the real world rainbow tables are generally a bit more complicated and powerful than we see in this flag. Rainbow tables use a technique called hash chaining to efficiently store a huge amount of hash value -> password pairings, allowing them to cover a much larger subspace of passwords than a simple csv like we do here. Hash chaining is so powerful it allows you to cover all possible passwords as long as the max length isn't too long, essentially precomputing a brute force attack!*"
      ],
      "metadata": {
        "id": "1Rgu7_bW8zku"
      }
    },
    {
      "cell_type": "code",
      "source": [
        "# Read rainbow table into a python dictionary. The dictionary maps SHA256 hash -> plaintext\n",
        "import csv\n",
        "rainbow_table = {}\n",
        "with open('/content/CSE198-CTF/rainbow_table.csv', mode='r') as f:\n",
        "    reader = csv.reader(f)\n",
        "    # skip the header row\n",
        "    next(reader)\n",
        "    for row in reader:\n",
        "        rainbow_table[row[0]] = row[1]\n",
        "\n",
        "# Your code here"
      ],
      "metadata": {
        "id": "aEq8qwDRDMgS"
      },
      "execution_count": 7,
      "outputs": []
    },
    {
      "cell_type": "code",
      "source": [
        "FLAG3 = \"plaintext password\""
      ],
      "metadata": {
        "id": "j11izBx8DArv"
      },
      "execution_count": null,
      "outputs": []
    },
    {
      "cell_type": "markdown",
      "source": [
        "## Flag 4-6: Brute Force Attacks (8 points)\n",
        "Dictionary attacks and rainbow tables are great ways to quickly crack passwords, but what if the hashed password you are trying to crack isn't in any of those lists? We fall back to the attack of last resort: the Brute Force Attack.\n",
        "\n",
        "In this attack, we will simply try every possible combination of letters and numbers until we find a matching hash value. Theoretically, this attack will always succeed at cracking a password (since all possible combinations are attempted). In practice, strong passwords take so long to crack it's infeasible to actually decipher them using this strategy.\n",
        "\n",
        "For flags 4-6, use a brute force cracking algorithm to find the plaintext of the following hashes. The length of the plaintext password for some flags will be given to make the coding a bit easier.\n",
        "\n",
        "\n",
        "Flag 4 (1 point, password length 1 character):\n",
        "\n",
        "\n",
        "```\n",
        "acac86c0e609ca906f632b0e2dacccb2b77d22b0621f20ebece1a4835b93f6f0\n",
        "```\n",
        "\n",
        "\n",
        "\n",
        "Flag 5 (3 points, password length 3 characters):\n",
        "\n",
        "```\n",
        "bf446ea38129b6f1a1ada774c9130c81a33904db1ee88e5b557d76ef1fb5e22d\n",
        "```\n",
        "\n",
        "\n",
        "Flag 6 (4 points password length between 1 and 10 characters):\n",
        "\n",
        "\n",
        "```\n",
        "31590c8d2e47e8ab4e2b66cf4327748eb9b6abd18fb30c578fb60addf4e1d13d\n",
        "```\n",
        "\n"
      ],
      "metadata": {
        "id": "hPX_e33b7kan"
      }
    },
    {
      "cell_type": "code",
      "source": [
        "# All passwords will contain letters only from the below alphabet. A specific letter can be accessed by doing alphabet[idx]\n",
        "alphabet = \"abcdefghijklmnopqrstuvwxyz0123456789\"\n",
        "print(alphabet[0])\n",
        "\n",
        "# HINT 1: How would you create a list of all 2 letter combinations after being given a list of all 1 letter combinations?\n",
        "# How about a list of all 3 letter combinations given the 2 combination list? Try to generalize this concept of building\n",
        "# combination lists off of previous lists in your code. If you are having trouble thinking about this in code try doing\n",
        "# it by hand.\n",
        "\n",
        "# HINT 2: For actually coding this concept, embedded loops or recursion are probably your friends\n",
        "\n",
        "# HINT 3: The range of possible passwords you are trying for 1-10 characters can get quite large.\n",
        "# If you run into memory errors think of how you can tweak your code to use less memory (for example,\n",
        "# trying to make a python list of every possible password probably gets too large, do you need to\n",
        "# store all that data at a time? If your code is taking too long, consider which ranges of passwords\n",
        "# are quicker to run through (is it better to check all 10 char passwords first or all 1 char passwords?)\n",
        "\n",
        "# Your code here\n"
      ],
      "metadata": {
        "colab": {
          "base_uri": "https://localhost:8080/",
          "height": 36
        },
        "id": "g3GVjkfuQ76u",
        "outputId": "7731f02d-db94-4129-d74c-756148eac3f5"
      },
      "execution_count": 6,
      "outputs": [
        {
          "output_type": "execute_result",
          "data": {
            "text/plain": [
              "'a'"
            ],
            "application/vnd.google.colaboratory.intrinsic+json": {
              "type": "string"
            }
          },
          "metadata": {},
          "execution_count": 6
        }
      ]
    },
    {
      "cell_type": "code",
      "source": [
        "FLAG3 = \"\"\n",
        "FLAG4 = \"\"\n",
        "FLAG5 = \"\""
      ],
      "metadata": {
        "id": "Mo2sqXXkRiN7"
      },
      "execution_count": null,
      "outputs": []
    }
  ]
}