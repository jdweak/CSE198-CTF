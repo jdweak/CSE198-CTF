{
  "nbformat": 4,
  "nbformat_minor": 0,
  "metadata": {
    "colab": {
      "provenance": [],
      "authorship_tag": "ABX9TyMo3JrcRTNu0SG+EFOTUj7r",
      "include_colab_link": true
    },
    "kernelspec": {
      "name": "python3",
      "display_name": "Python 3"
    },
    "language_info": {
      "name": "python"
    }
  },
  "cells": [
    {
      "cell_type": "markdown",
      "metadata": {
        "id": "view-in-github",
        "colab_type": "text"
      },
      "source": [
        "<a href=\"https://colab.research.google.com/github/jdweak/CSE198-CTF/blob/main/Final_CSE198CTF.ipynb\" target=\"_parent\"><img src=\"https://colab.research.google.com/assets/colab-badge.svg\" alt=\"Open In Colab\"/></a>"
      ]
    },
    {
      "cell_type": "code",
      "execution_count": null,
      "metadata": {
        "id": "VYPc9S682ieg"
      },
      "outputs": [],
      "source": [
        "#TODO: Password Cracking Algorithms (unhashed, brute force, dictionary, rainbow table) || Encryption: Sub cipher, ceasar shift, etc"
      ]
    },
    {
      "cell_type": "markdown",
      "source": [
        "# CTF: Password Cracking\n",
        "\n",
        "To really understand password security and best practices, in this mock CTF we'll explore and implement password cracking techniques. Our dataset will draw from the OWASP project's dataset of the most common passwords (https://github.com/danielmiessler/SecLists/tree/master)."
      ],
      "metadata": {
        "id": "K5DLVFpcxkc8"
      }
    },
    {
      "cell_type": "markdown",
      "source": [
        "## Flag 1: Finding passwords in a plaintext list (1 pt)\n",
        "\n",
        "A common security flaw in early websites was storing password databases in plaintext (without hashing). This meant that for any of these websites, if a hacker got access to the database (for example through SQL injection) they could easily find the password of any user regardless of password strength.\n",
        "\n",
        "For this flag, look in the plaintext_passwords.csv file and find the password of user 36. When you find it assign the variable FLAG1 in the cell below to the password and run the cell."
      ],
      "metadata": {
        "id": "grhlU8JJzDzn"
      }
    },
    {
      "cell_type": "code",
      "source": [
        "FLAG1 = \"user 36's password\""
      ],
      "metadata": {
        "id": "E3vFIQKez2MH"
      },
      "execution_count": null,
      "outputs": []
    },
    {
      "cell_type": "markdown",
      "source": [
        "## Flag 2: Basic Password Hashing & Dictionary Attack (3 points)\n",
        "\n",
        "Flag 1 should have demonstrated why hashing passwords is so important to ensure security. With hashed passwords, instead of seeing a table full of everyone's password, you now see a bunch of long strings which were encrypted with an irreversable hashing algorithm (in this case sha256). So instead of seeing the plaintext of user 36's password in our table, we now see this:\n",
        "\n",
        "\n",
        "\n",
        "```\n",
        "User ID: 36 || SHA256 Hash: ed45d626b07112a8a501d9672f3b92796a6754b8d8d9cb4c617fec9774889220\n",
        "```\n",
        "\n",
        "Not so easy to get the credentials now. For this next challenge, we're going to implement a dictionary attack to crack a user's password. In this case, our dictionary will be the list of the top 1000 most common passwords. Use the provided hash_SHA256 method and list of passwords to find the plaintext of the hashed password below:\n",
        "\n",
        "\n",
        "```\n",
        "8bd10698229d26627eb039ac20f4537b62c6687ccb2892590bc7a3691659e892\n",
        "```\n",
        "\n",
        "Once you figure out the plaintext password, paste it into the FLAG2 variable below like you did in flag 1.\n"
      ],
      "metadata": {
        "id": "noZrNBKcz6t8"
      }
    },
    {
      "cell_type": "code",
      "source": [
        "# Run this code to import password files needed for later\n",
        "!git clone https://github.com/jdweak/CSE198-CTF.git"
      ],
      "metadata": {
        "colab": {
          "base_uri": "https://localhost:8080/"
        },
        "id": "lnqa0edxHoMy",
        "outputId": "442b6469-1e8c-4319-bfb0-f5ff40ff1c9e"
      },
      "execution_count": 6,
      "outputs": [
        {
          "output_type": "stream",
          "name": "stdout",
          "text": [
            "Cloning into 'CSE198-CTF'...\n",
            "remote: Enumerating objects: 10, done.\u001b[K\n",
            "remote: Counting objects: 100% (10/10), done.\u001b[K\n",
            "remote: Compressing objects: 100% (8/8), done.\u001b[K\n",
            "remote: Total 10 (delta 1), reused 0 (delta 0), pack-reused 0 (from 0)\u001b[K\n",
            "Receiving objects: 100% (10/10), 9.43 KiB | 9.43 MiB/s, done.\n",
            "Resolving deltas: 100% (1/1), done.\n"
          ]
        }
      ]
    },
    {
      "cell_type": "code",
      "source": [
        "import hashlib\n",
        "\n",
        "# This method allows you to hash any string using the SHA256 algorithm.\n",
        "def hash_SHA256(password):\n",
        "  sha256_hash = hashlib.sha256(password.encode('utf-8')).hexdigest()\n",
        "  return sha256_hash"
      ],
      "metadata": {
        "id": "eL03E3LYUR4z"
      },
      "execution_count": null,
      "outputs": []
    },
    {
      "cell_type": "code",
      "source": [
        "# Read the password file into a list called plaintexts\n",
        "with open('/content/CSE198-CTF/top_1000_plaintext.csv', 'r') as f:\n",
        "    plaintexts = [line.strip() for line in f]\n",
        "\n",
        "# print out the first plaintext in the list\n",
        "print(plaintexts[0])\n",
        "\n",
        "\n",
        "# HINT: If you as a person were given a list of the most common passwords and instructions on how to hash a password,\n",
        "# how would you do this task by hand?)\n",
        "\n",
        "# Your code goes here\n"
      ],
      "metadata": {
        "colab": {
          "base_uri": "https://localhost:8080/"
        },
        "id": "d9g3OE87B4kC",
        "outputId": "1173088a-dde8-4281-eb8b-faa7302059a5"
      },
      "execution_count": 9,
      "outputs": [
        {
          "output_type": "stream",
          "name": "stdout",
          "text": [
            "Plaintext\n"
          ]
        }
      ]
    },
    {
      "cell_type": "code",
      "source": [
        "FLAG2 = \"plaintext password\""
      ],
      "metadata": {
        "id": "SYp16FxX6zj4"
      },
      "execution_count": null,
      "outputs": []
    },
    {
      "cell_type": "markdown",
      "source": [
        "## Flag 3-5: Brute Force Attacks (8 points)\n",
        "Dictionary attacks and rainbow tables are great ways to quickly crack passwords, but what if the hashed password you are trying to crack isn't in any of those lists? We fallback to the attack of last resort: the Brute Force Attack.\n",
        "\n",
        "In this attack, we will simply try every possible combination of letters and numbers until we find a matching hash value. Theoretically, this attack will always succeed at cracking a password (since all possible combinations are attempted). In practice, strong passwords take so long to crack it's infeasible to actually decipher them using this strategy.\n",
        "\n",
        "For flags 3-5, use a brute force cracking algorithm to find the plaintext of the following hashes. The length of the plaintext password for some flags will be given to make the coding a bit easier.\n",
        "\n",
        "\n",
        "Flag 3 (1 point, password length 1 character):\n",
        "\n",
        "\n",
        "```\n",
        "6da43b944e494e885e69af021f93c6d9331c78aa228084711429160a5bbd15b5\n",
        "```\n",
        "\n",
        "\n",
        "\n",
        "Flag 4 (3 points, password length 3 characters):\n",
        "\n",
        "```\n",
        "6e0290d62f6db1779d6318df50209de8c9b93adb29b7dd46e7b563f044103b40\n",
        "```\n",
        "\n",
        "\n",
        "Flag 5 (4 points password length between 1 and 10 characters):\n",
        "\n",
        "\n",
        "```\n",
        "0283e655bc721952a780ab2a11a2c674c248d68918e7c2c070ac4cdd9b08a172\n",
        "```\n",
        "\n"
      ],
      "metadata": {
        "id": "hPX_e33b7kan"
      }
    },
    {
      "cell_type": "code",
      "source": [
        "# All passwords will contain letters only from the below alphabet. A specific letter can be accessed by doing alphabet[idx]\n",
        "alphabet = \"abcdefghijklmnopqrstuvwxyzABCDEFGHIJKLMNOPQRSTUVWXYZ0123456789\"\n",
        "alphabet[0]\n",
        "\n",
        "# HINT 1: How would you create a list of all 2 letter combinations after being given a list of all 1 letter combinations?\n",
        "# How about a list of all 3 letter combinations given the 2 combination list? Try to generalize this concept of building\n",
        "# combination lists off of previous lists in your code. If you are having trouble thinking about this in code try doing\n",
        "# it by hand.\n",
        "\n",
        "# HINT 2: For actually coding this concept, embedded loops or recursion are probably your friends\n",
        "\n",
        "# Your code here\n"
      ],
      "metadata": {
        "colab": {
          "base_uri": "https://localhost:8080/",
          "height": 36
        },
        "id": "g3GVjkfuQ76u",
        "outputId": "ba531296-9174-454c-a180-bee584bb4d26"
      },
      "execution_count": 11,
      "outputs": [
        {
          "output_type": "execute_result",
          "data": {
            "text/plain": [
              "'a'"
            ],
            "application/vnd.google.colaboratory.intrinsic+json": {
              "type": "string"
            }
          },
          "metadata": {},
          "execution_count": 11
        }
      ]
    },
    {
      "cell_type": "code",
      "source": [
        "FLAG3 = \"\"\n",
        "FLAG4 = \"\"\n",
        "FLAG5 = \"\""
      ],
      "metadata": {
        "id": "Mo2sqXXkRiN7"
      },
      "execution_count": null,
      "outputs": []
    }
  ]
}