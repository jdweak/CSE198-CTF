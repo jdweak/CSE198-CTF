{
  "nbformat": 4,
  "nbformat_minor": 0,
  "metadata": {
    "colab": {
      "provenance": [],
      "include_colab_link": true
    },
    "kernelspec": {
      "name": "python3",
      "display_name": "Python 3"
    },
    "language_info": {
      "name": "python"
    }
  },
  "cells": [
    {
      "cell_type": "markdown",
      "metadata": {
        "id": "view-in-github",
        "colab_type": "text"
      },
      "source": [
        "<a href=\"https://colab.research.google.com/github/jdweak/CSE198-CTF/blob/main/Final_CSE198CTF.ipynb\" target=\"_parent\"><img src=\"https://colab.research.google.com/assets/colab-badge.svg\" alt=\"Open In Colab\"/></a>"
      ]
    },
    {
      "cell_type": "markdown",
      "source": [
        "# CTF: Password Cracking\n",
        "\n",
        "To really understand password security and best practices, in this mock CTF we'll explore and implement password cracking techniques. Our dataset will draw from the OWASP project's dataset of the most common passwords (https://github.com/danielmiessler/SecLists/tree/master)."
      ],
      "metadata": {
        "id": "K5DLVFpcxkc8"
      }
    },
    {
      "cell_type": "markdown",
      "source": [
        "# Setup\n",
        "We will use the site https://tinyurl.com/CSE198-Leaderboard to validate flag answers and keep track of team scores. Each flag is worth 100 points, so with 6 flags there is a max score of 600.\n",
        "\n",
        "Have **1 person only** from your team run the 2 code cells below to add your team to the leaderboard. In the second code cell make sure to set the team_name variable to what you want your team's leaderboard name to be. When submitting answers to the leaderboard using the submit_solution method provided for each flag, have the person who ran those code cells to put your team on the leaderboard do it (requests to the leaderboard without a valid team ID will be rejected with an error).\n",
        "\n",
        "*If you really want to have multiple people submitting to your team's scoreboard, run the code*\n",
        "\n",
        "```\n",
        "user_id = \"your team's user id\"\n",
        "# The id is the one printed after team creation, looks something like a65c169b-3669-4bb7-900b-e55b71e9b085\n",
        "```\n"
      ],
      "metadata": {
        "id": "SwMcdlDFNkYX"
      }
    },
    {
      "cell_type": "code",
      "source": [
        "# download relavent datasets\n",
        "!git clone https://github.com/jdweak/CSE198-CTF.git\n",
        "# download library for talking to leaderboard site\n",
        "!pip install requests\n",
        "import requests\n",
        "\n",
        "# methods for setup\n",
        "SERVER_URL = \"https://cse198.pythonanywhere.com\"\n",
        "user_id = None\n",
        "def create_user(name):\n",
        "    global user_id\n",
        "    response = requests.post(f\"{SERVER_URL}/create_user\", json={\"name\": name})\n",
        "    if response.status_code == 200:\n",
        "        user_id = response.json()[\"user_id\"]\n",
        "        print(f\"User created! Your team name is {name} and Unique User ID is: {user_id}\")\n",
        "    else:\n",
        "        print(\"Failed to create user:\", response.json())\n",
        "\n",
        "def submit_solution(problem_number, solution_text):\n",
        "    if not user_id:\n",
        "        print(\"Error: You must create a user first!\")\n",
        "        return\n",
        "\n",
        "    payload = {\n",
        "        \"user_id\": user_id,\n",
        "        \"problem_number\": problem_number,\n",
        "        \"solution\": solution_text\n",
        "    }\n",
        "    response = requests.post(f\"{SERVER_URL}/submit_solution\", json=payload)\n",
        "\n",
        "    if response.status_code == 200:\n",
        "        print(f\"Success! Your new score is {response.json()['new_score']}\")\n",
        "    else:\n",
        "        print(\"Failed to submit solution:\", response.json())\n",
        "\n",
        "def check_user_id():\n",
        "    print(f\"Your saved user ID is: {user_id}\")\n",
        "\n"
      ],
      "metadata": {
        "colab": {
          "base_uri": "https://localhost:8080/"
        },
        "id": "DuH89mzhO0-G",
        "outputId": "8bdf114f-5ce7-4612-b03f-7b1772c75b6d"
      },
      "execution_count": 20,
      "outputs": [
        {
          "output_type": "stream",
          "name": "stdout",
          "text": [
            "fatal: destination path 'CSE198-CTF' already exists and is not an empty directory.\n",
            "Requirement already satisfied: requests in /usr/local/lib/python3.11/dist-packages (2.32.3)\n",
            "Requirement already satisfied: charset-normalizer<4,>=2 in /usr/local/lib/python3.11/dist-packages (from requests) (3.4.1)\n",
            "Requirement already satisfied: idna<4,>=2.5 in /usr/local/lib/python3.11/dist-packages (from requests) (3.10)\n",
            "Requirement already satisfied: urllib3<3,>=1.21.1 in /usr/local/lib/python3.11/dist-packages (from requests) (2.4.0)\n",
            "Requirement already satisfied: certifi>=2017.4.17 in /usr/local/lib/python3.11/dist-packages (from requests) (2025.1.31)\n"
          ]
        }
      ]
    },
    {
      "cell_type": "code",
      "source": [
        "# Set the team_name variable to what you want your team's name on the leaderboard to be\n",
        "# and run this cell\n",
        "team_name = \"\"\n",
        "if team_name != \"\":\n",
        "  create_user(team_name)\n",
        "else:\n",
        "  print(\"Error: please set the team_name variable and run the cell again\")"
      ],
      "metadata": {
        "colab": {
          "base_uri": "https://localhost:8080/"
        },
        "id": "cWUPWC9ZPSpa",
        "outputId": "6ac943ea-f34b-447b-ca48-04a980bcda54"
      },
      "execution_count": 19,
      "outputs": [
        {
          "output_type": "stream",
          "name": "stdout",
          "text": [
            "User created! Your ID is: a65c169b-3669-4bb7-900b-e55b71e9b085\n"
          ]
        }
      ]
    },
    {
      "cell_type": "markdown",
      "source": [
        "## Flag 1: Finding passwords in a plaintext list\n",
        "\n",
        "A common security flaw in early websites was storing password databases in plaintext (without hashing). This meant that for any of these websites, if a hacker got access to the database (for example through SQL injection) they could easily find the password of any user regardless of password strength.\n",
        "\n",
        "For this flag, first run the code snippet below, then look in the plaintext_passwords.csv file (a list of the top 50 most common passwords) and find the password of user 16 (look at files by clicking on the folder symbol on the left of your screen and going into the CSE198-CTF folder). When you find it assign the variable FLAG1 in the cell below to the password and run the cell."
      ],
      "metadata": {
        "id": "grhlU8JJzDzn"
      }
    },
    {
      "cell_type": "code",
      "source": [
        "FLAG1 = \"\"\n",
        "submit_solution(1, FLAG1)"
      ],
      "metadata": {
        "id": "E3vFIQKez2MH",
        "colab": {
          "base_uri": "https://localhost:8080/"
        },
        "outputId": "2828874a-3a4e-40d6-f6af-11cbfa9bf196"
      },
      "execution_count": 25,
      "outputs": [
        {
          "output_type": "stream",
          "name": "stdout",
          "text": [
            "Failed to submit solution: {'message': 'Problem already solved.'}\n"
          ]
        }
      ]
    },
    {
      "cell_type": "markdown",
      "source": [
        "## Flag 2: Basic Password Hashing & Dictionary Attack\n",
        "\n",
        "Flag 1 should have demonstrated why hashing passwords is so important to ensure security. With hashed passwords, instead of seeing a table full of everyone's password, you now see a bunch of long strings which were encrypted with an irreversable hashing algorithm (in this case SHA256). So instead of seeing the plaintext of user 36's password in our table, we now see this:\n",
        "\n",
        "\n",
        "\n",
        "```\n",
        "User ID: 16 || SHA256 Hash: 1c8bfe8f801d79745c4631d09fff36c82aa37fc4cce4fc946683d7b336b63032\n",
        "```\n",
        "\n",
        "Not so easy to get the credentials now. For this next challenge, we're going to implement a dictionary attack to crack a user's password. In this case, our dictionary will be a subset of the list of the top 1000 most common passwords (passwords 501-950). Use the provided hash_SHA256 method and list of passwords to find the plaintext of the hashed password below:\n",
        "\n",
        "\n",
        "```\n",
        "8bd10698229d26627eb039ac20f4537b62c6687ccb2892590bc7a3691659e892\n",
        "```\n",
        "\n",
        "Once you figure out the plaintext password, paste it into the FLAG2 variable below like you did in flag 1.\n"
      ],
      "metadata": {
        "id": "noZrNBKcz6t8"
      }
    },
    {
      "cell_type": "code",
      "source": [
        "import hashlib\n",
        "\n",
        "# This method allows you to hash any string using the SHA256 algorithm.\n",
        "def hash_SHA256(password):\n",
        "  sha256_hash = hashlib.sha256(password.encode('utf-8')).hexdigest()\n",
        "  return sha256_hash"
      ],
      "metadata": {
        "id": "eL03E3LYUR4z"
      },
      "execution_count": null,
      "outputs": []
    },
    {
      "cell_type": "code",
      "source": [
        "# Read the password file into a list called plaintexts\n",
        "with open('/content/CSE198-CTF/plaintext_dictionary.csv.csv', 'r') as f:\n",
        "    plaintexts = [line.strip() for line in f]\n",
        "\n",
        "# print out the first plaintext in the list\n",
        "print(plaintexts[0])\n",
        "\n",
        "\n",
        "# HINT: If you as a person were given a list of the most common passwords and instructions\n",
        "# on how to hash a password, how would you do this task by hand?\n",
        "\n",
        "# Your code goes here\n"
      ],
      "metadata": {
        "colab": {
          "base_uri": "https://localhost:8080/"
        },
        "id": "d9g3OE87B4kC",
        "outputId": "91c10f59-d62e-4dcf-9aa9-0c2b835acbba"
      },
      "execution_count": null,
      "outputs": [
        {
          "output_type": "stream",
          "name": "stdout",
          "text": [
            "123456\n"
          ]
        }
      ]
    },
    {
      "cell_type": "code",
      "source": [
        "FLAG2 = \"plaintext password\"\n",
        "submit_solution(2, FLAG2)"
      ],
      "metadata": {
        "id": "SYp16FxX6zj4"
      },
      "execution_count": null,
      "outputs": []
    },
    {
      "cell_type": "markdown",
      "source": [
        "## Flag 3: Rainbow Table Attack\n",
        "As we saw in the previous flag, the dictionary attack is a quick and easy way to crack commonly used or leaked passwords. However, in the real world simple dictionary attacks can still be very slow. Many encryption algorithms specifically designed for password hashing like Bcrypt, Argon2, or scrypt are designed to be much slower to improve resistance against password cracking. Additionally, when our dictionary grows from a few hundred passwords to millions, you can see how dictionary attacks can become quite slow.\n",
        "\n",
        "To fix this, we will implement a rainbow table attack. Rainbow table attacks are similar to dictionary attacks, but instead of taking a list of plaintext passwords and hashing them all in our algorithm we will take a precomputed list of password hashes and their corresponding plaintext passwords and search it for the password we are trying to crack. In this excersise, use the rainbow_table.csv file (mapping the top 500 most common passwords to their SHA256 hashes) to quickly find the password associated with the hash\n",
        "```\n",
        "8fced00b6ce281456d69daef5f2b33eaf1a4a29b5923ebe5f1f2c54f5886c7a3\n",
        "```\n",
        "\n",
        "*Side note: In the real world rainbow tables are generally a bit more complicated and powerful than we see in this flag. Rainbow tables use a technique called hash chaining to efficiently store a huge amount of hash value -> password pairings, allowing them to cover a much larger subspace of passwords than a simple csv like we do here. Hash chaining is so powerful it allows you to cover all possible passwords as long as the max length isn't too long, essentially precomputing a brute force attack!*"
      ],
      "metadata": {
        "id": "1Rgu7_bW8zku"
      }
    },
    {
      "cell_type": "code",
      "source": [
        "# Read rainbow table into a python dictionary. The dictionary maps SHA256 hash -> plaintext\n",
        "import csv\n",
        "rainbow_table = {}\n",
        "with open('/content/CSE198-CTF/rainbow_table.csv', mode='r') as f:\n",
        "    reader = csv.reader(f)\n",
        "    # skip the header row\n",
        "    next(reader)\n",
        "    for row in reader:\n",
        "        rainbow_table[row[0]] = row[1]\n",
        "\n",
        "# Your code here"
      ],
      "metadata": {
        "id": "aEq8qwDRDMgS"
      },
      "execution_count": null,
      "outputs": []
    },
    {
      "cell_type": "code",
      "source": [
        "FLAG3 = \"plaintext password\"\n",
        "submit_solution(3, FLAG3)"
      ],
      "metadata": {
        "id": "j11izBx8DArv"
      },
      "execution_count": null,
      "outputs": []
    },
    {
      "cell_type": "markdown",
      "source": [
        "## Flag 4-6: Brute Force Attacks\n",
        "Dictionary attacks and rainbow tables are great ways to quickly crack passwords, but what if the hashed password you are trying to crack isn't in any of those lists? We fall back to the attack of last resort: the Brute Force Attack.\n",
        "\n",
        "In this attack, we will simply try every possible combination of letters and numbers until we find a matching hash value. Theoretically, this attack will always succeed at cracking a password (since all possible combinations are attempted). In practice, strong passwords take so long to crack it's infeasible to actually decipher them using this strategy.\n",
        "\n",
        "For flags 4-6, use a brute force cracking algorithm to find the plaintext of the following hashes. The length of the plaintext password for some flags will be given to make the coding a bit easier.\n",
        "\n",
        "\n",
        "Flag 4 (1 point, password length 1 character):\n",
        "\n",
        "\n",
        "```\n",
        "acac86c0e609ca906f632b0e2dacccb2b77d22b0621f20ebece1a4835b93f6f0\n",
        "```\n",
        "\n",
        "\n",
        "\n",
        "Flag 5 (3 points, password length 3 characters):\n",
        "\n",
        "```\n",
        "bf446ea38129b6f1a1ada774c9130c81a33904db1ee88e5b557d76ef1fb5e22d\n",
        "```\n",
        "\n",
        "\n",
        "Flag 6 (4 points password length between 1 and 10 characters):\n",
        "\n",
        "\n",
        "```\n",
        "31590c8d2e47e8ab4e2b66cf4327748eb9b6abd18fb30c578fb60addf4e1d13d\n",
        "```\n"
      ],
      "metadata": {
        "id": "hPX_e33b7kan"
      }
    },
    {
      "cell_type": "code",
      "source": [
        "# All passwords will contain letters only from the below alphabet. A specific letter can be accessed by doing alphabet[idx]\n",
        "alphabet = \"abcdefghijklmnopqrstuvwxyz0123456789\"\n",
        "print(alphabet[0])\n",
        "\n",
        "# HINT 1: How would you create a list of all 2 letter combinations after being given a list of all 1 letter combinations?\n",
        "# How about a list of all 3 letter combinations given the 2 combination list? Try to generalize this concept of building\n",
        "# combination lists off of previous lists in your code. If you are having trouble thinking about this in code try doing\n",
        "# it by hand.\n",
        "\n",
        "# HINT 2: For actually coding this concept, embedded loops or recursion are probably your friends\n",
        "\n",
        "# HINT 3: The range of possible passwords you are trying for 1-10 characters can get quite large.\n",
        "# If you run into memory errors think of how you can tweak your code to use less memory (for example,\n",
        "# trying to make a python list of every possible password probably gets too large, do you need to\n",
        "# store all that data at a time? If your code is taking too long, consider which ranges of passwords\n",
        "# are quicker to run through (is it better to check all 10 char passwords first or all 1 char passwords?)\n",
        "\n",
        "# Your code here\n"
      ],
      "metadata": {
        "colab": {
          "base_uri": "https://localhost:8080/",
          "height": 36
        },
        "id": "g3GVjkfuQ76u",
        "outputId": "7731f02d-db94-4129-d74c-756148eac3f5"
      },
      "execution_count": null,
      "outputs": [
        {
          "output_type": "execute_result",
          "data": {
            "text/plain": [
              "'a'"
            ],
            "application/vnd.google.colaboratory.intrinsic+json": {
              "type": "string"
            }
          },
          "metadata": {},
          "execution_count": 6
        }
      ]
    },
    {
      "cell_type": "code",
      "source": [
        "FLAG4 = \"plaintext password\"\n",
        "submit_solution(4, FLAG4)"
      ],
      "metadata": {
        "id": "c0fKkP1mTsQW"
      },
      "execution_count": null,
      "outputs": []
    },
    {
      "cell_type": "code",
      "source": [
        "FLAG5 = \"plaintext password\"\n",
        "submit_solution(5, FLAG5)"
      ],
      "metadata": {
        "id": "B_bTLJ4CTsWG"
      },
      "execution_count": null,
      "outputs": []
    },
    {
      "cell_type": "code",
      "source": [
        "FLAG6 = \"plaintext password\"\n",
        "submit_solution(6, FLAG6)"
      ],
      "metadata": {
        "id": "sxfa-FyrT4v1"
      },
      "execution_count": null,
      "outputs": []
    }
  ]
}