{
  "nbformat": 4,
  "nbformat_minor": 0,
  "metadata": {
    "colab": {
      "provenance": [],
      "include_colab_link": true
    },
    "kernelspec": {
      "name": "python3",
      "display_name": "Python 3"
    },
    "language_info": {
      "name": "python"
    }
  },
  "cells": [
    {
      "cell_type": "markdown",
      "metadata": {
        "id": "view-in-github",
        "colab_type": "text"
      },
      "source": [
        "<a href=\"https://colab.research.google.com/github/jdweak/CSE198-CTF/blob/no-coding/Simple_CSE198CTF.ipynb\" target=\"_parent\"><img src=\"https://colab.research.google.com/assets/colab-badge.svg\" alt=\"Open In Colab\"/></a>"
      ]
    },
    {
      "cell_type": "markdown",
      "source": [
        "# CTF: Password Cracking\n",
        "\n",
        "To really understand password security and best practices, in this mock CTF we'll explore and implement password cracking techniques. Our dataset will draw from the OWASP project's dataset of the most common passwords (https://github.com/danielmiessler/SecLists/tree/master).\n",
        "\n",
        "Make a copy of this file on your own google drive by going to `File -> Save a copy in drive` so you can edit your own version.\n"
      ],
      "metadata": {
        "id": "K5DLVFpcxkc8"
      }
    },
    {
      "cell_type": "markdown",
      "source": [
        "# Setup\n",
        "We will use the site https://tinyurl.com/CSE198-Leaderboard to validate flag answers and keep track of team scores. Each flag is worth 100 points, so with 6 flags there is a max score of 600.\n",
        "\n",
        "Run the below code cell to download the datasets necessary for the CTF.\n",
        "\n"
      ],
      "metadata": {
        "id": "SwMcdlDFNkYX"
      }
    },
    {
      "cell_type": "code",
      "source": [
        "#@title Run this cell for setup by clicking the [4]/play button\n",
        "# RUN THIS CODE CELL\n",
        "\n",
        "# download relavent datasets\n",
        "!git clone -b no-coding https://github.com/jdweak/CSE198-CTF.git\n",
        "# download library for talking to leaderboard site\n",
        "!pip install requests\n",
        "import requests\n",
        "\n",
        "# methods for setup\n",
        "SERVER_URL = \"https://cse198.pythonanywhere.com\"\n",
        "user_id = None\n",
        "def create_user(name):\n",
        "    global user_id\n",
        "    response = requests.post(f\"{SERVER_URL}/create_user\", json={\"name\": name})\n",
        "    if response.status_code == 200:\n",
        "        user_id = response.json()[\"user_id\"]\n",
        "        print(f\"User created! Your team name is {name} and Unique User ID is: {user_id}\")\n",
        "    else:\n",
        "        print(\"Failed to create user:\", response.json())\n",
        "\n",
        "def submit_solution(problem_number, solution_text):\n",
        "    if not user_id:\n",
        "        print(\"Error: You must create a user first!\")\n",
        "        return\n",
        "\n",
        "    payload = {\n",
        "        \"user_id\": user_id,\n",
        "        \"problem_number\": problem_number,\n",
        "        \"solution\": solution_text\n",
        "    }\n",
        "    response = requests.post(f\"{SERVER_URL}/submit_solution\", json=payload)\n",
        "\n",
        "    if response.status_code == 200:\n",
        "        print(f\"Success! Your new score is {response.json()['new_score']}\")\n",
        "    else:\n",
        "        print(\"Failed to submit solution:\", response.json())\n",
        "\n",
        "def check_user_id():\n",
        "    print(f\"Your saved user ID is: {user_id}\")\n",
        "\n"
      ],
      "metadata": {
        "colab": {
          "base_uri": "https://localhost:8080/"
        },
        "id": "DuH89mzhO0-G",
        "outputId": "d5859be3-ea3f-4ccc-f1df-874b478db32d",
        "cellView": "form"
      },
      "execution_count": 2,
      "outputs": [
        {
          "output_type": "stream",
          "name": "stdout",
          "text": [
            "Cloning into 'CSE198-CTF'...\n",
            "remote: Enumerating objects: 49, done.\u001b[K\n",
            "remote: Counting objects: 100% (49/49), done.\u001b[K\n",
            "remote: Compressing objects: 100% (47/47), done.\u001b[K\n",
            "remote: Total 49 (delta 22), reused 0 (delta 0), pack-reused 0 (from 0)\u001b[K\n",
            "Receiving objects: 100% (49/49), 66.79 KiB | 2.30 MiB/s, done.\n",
            "Resolving deltas: 100% (22/22), done.\n",
            "Requirement already satisfied: requests in /usr/local/lib/python3.11/dist-packages (2.32.3)\n",
            "Requirement already satisfied: charset-normalizer<4,>=2 in /usr/local/lib/python3.11/dist-packages (from requests) (3.4.2)\n",
            "Requirement already satisfied: idna<4,>=2.5 in /usr/local/lib/python3.11/dist-packages (from requests) (3.10)\n",
            "Requirement already satisfied: urllib3<3,>=1.21.1 in /usr/local/lib/python3.11/dist-packages (from requests) (2.4.0)\n",
            "Requirement already satisfied: certifi>=2017.4.17 in /usr/local/lib/python3.11/dist-packages (from requests) (2025.4.26)\n"
          ]
        }
      ]
    },
    {
      "cell_type": "markdown",
      "source": [
        "Have **1 person only** from your team run the below code to add your team to the leaderboard. Make sure to set the team_name variable to what you want your team's leaderboard name to be. **When submitting answers to the leaderboard using the submit_solution method provided for each flag, have the person who ran the below code cell do it** (requests to the leaderboard without a valid team ID will be rejected with an error).\n",
        "\n"
      ],
      "metadata": {
        "id": "6Y2S2t6gTTcC"
      }
    },
    {
      "cell_type": "code",
      "source": [
        "# Set the team_name variable to what you want your team's name on the leaderboard to be\n",
        "# and run this cell\n",
        "team_name = \"PUT YOUR TEAM'S NAME HERE\"\n",
        "if team_name != \"\":\n",
        "  create_user(team_name)\n",
        "else:\n",
        "  print(\"Error: please set the team_name variable and run the cell again\")"
      ],
      "metadata": {
        "colab": {
          "base_uri": "https://localhost:8080/"
        },
        "id": "cWUPWC9ZPSpa",
        "outputId": "6ac943ea-f34b-447b-ca48-04a980bcda54"
      },
      "execution_count": null,
      "outputs": [
        {
          "output_type": "stream",
          "name": "stdout",
          "text": [
            "User created! Your ID is: a65c169b-3669-4bb7-900b-e55b71e9b085\n"
          ]
        }
      ]
    },
    {
      "cell_type": "markdown",
      "source": [
        "## Flag 1: Finding passwords in a plaintext list\n",
        "\n",
        "A common security flaw in early websites was storing password databases in plaintext (without hashing). This meant that for any of these websites, if a hacker got access to the database (for example through SQL injection) they could easily find the password of any user regardless of password strength.\n",
        "\n",
        "For this flag, look in the plaintext_passwords.csv file (a list of the top 50 most common passwords) and find the password of user 16 (look at files by clicking on the folder symbol on the left of your screen and going into the CSE198-CTF folder). When you find it assign the variable FLAG1 in the cell below to the password and run the cell.\n",
        "\n",
        "![image.png](data:image/png;base64,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)"
      ],
      "metadata": {
        "id": "grhlU8JJzDzn"
      }
    },
    {
      "cell_type": "code",
      "source": [
        "FLAG1 = \"\"\n",
        "submit_solution(1, FLAG1)"
      ],
      "metadata": {
        "id": "E3vFIQKez2MH",
        "colab": {
          "base_uri": "https://localhost:8080/"
        },
        "outputId": "2828874a-3a4e-40d6-f6af-11cbfa9bf196"
      },
      "execution_count": null,
      "outputs": [
        {
          "output_type": "stream",
          "name": "stdout",
          "text": [
            "Failed to submit solution: {'message': 'Problem already solved.'}\n"
          ]
        }
      ]
    },
    {
      "cell_type": "markdown",
      "source": [
        "## Flag 2: Basic Password Hashing & Dictionary Attack\n",
        "\n",
        "Flag 1 should have demonstrated why hashing passwords is so important to ensure security. With hashed passwords, instead of seeing a table full of everyone's password, you now see a bunch of long strings which were encrypted with an irreversable hashing algorithm (in this case SHA256). So instead of seeing the plaintext of user 36's password in our table, we now see this:\n",
        "\n",
        "\n",
        "\n",
        "```\n",
        "User ID: 16 || SHA256 Hash: 1c8bfe8f801d79745c4631d09fff36c82aa37fc4cce4fc946683d7b336b63032\n",
        "```\n",
        "\n",
        "Not so easy to get the credentials now. For this next challenge, we're going to mimic a dictionary attack to crack a user's password. Use the website https://emn178.github.io/online-tools/sha256.html to try encrypting all the passwords from the same plaintext_passwords.csv file until you find which one matches the hash below.\n",
        "\n",
        "\n",
        "```\n",
        "6382deaf1f5dc6e792b76db4a4a7bf2ba468884e000b25e7928e621e27fb23cb\n",
        "```\n",
        "\n",
        "Once you figure out the plaintext password, paste it into the FLAG2 variable below like you did in flag 1.\n"
      ],
      "metadata": {
        "id": "noZrNBKcz6t8"
      }
    },
    {
      "cell_type": "code",
      "source": [
        "FLAG2 = \"plaintext password\"\n",
        "submit_solution(2, FLAG2)"
      ],
      "metadata": {
        "id": "SYp16FxX6zj4"
      },
      "execution_count": null,
      "outputs": []
    },
    {
      "cell_type": "markdown",
      "source": [
        "## Flag 3: Rainbow Table Attack\n",
        "As we saw in the previous flag, the dictionary attack is a quick and easy way to crack commonly used or leaked passwords. However, in the real world simple dictionary attacks can still be very slow. Many encryption algorithms specifically designed for password hashing like Bcrypt, Argon2, or scrypt are designed to be much slower to improve resistance against password cracking. Additionally, when our dictionary grows from a few hundred passwords to millions, you can see how dictionary attacks can become quite slow.\n",
        "\n",
        "To speed this process up, hackers often use rainbow table attacks. Rainbow table attacks are similar to dictionary attacks, but instead of taking a list of plaintext passwords and hashing them all manually we will take a precomputed list of password hashes and their corresponding plaintext passwords and search it for the password we are trying to crack. In this excersise, search the rainbow_table.csv file (mapping the top 500 most common passwords to their SHA256 hashes) to quickly find the password associated with the below hash.\n",
        "```\n",
        "8fced00b6ce281456d69daef5f2b33eaf1a4a29b5923ebe5f1f2c54f5886c7a3\n",
        "```\n",
        "\n",
        "*Side note: In the real world rainbow tables are generally a bit more complicated and powerful than we see in this flag. Rainbow tables use a technique called hash chaining to efficiently store a huge amount of hash value -> password pairings, allowing them to cover a much larger subspace of passwords than a simple csv like we do here. Hash chaining is so powerful it allows you to cover all possible passwords as long as the max length isn't too long, essentially precomputing a brute force attack!*"
      ],
      "metadata": {
        "id": "1Rgu7_bW8zku"
      }
    },
    {
      "cell_type": "code",
      "source": [
        "FLAG3 = \"plaintext password\"\n",
        "submit_solution(3, FLAG3)"
      ],
      "metadata": {
        "id": "j11izBx8DArv"
      },
      "execution_count": null,
      "outputs": []
    },
    {
      "cell_type": "markdown",
      "source": [
        "## Flag 4-6: Brute Force Attacks\n",
        "Dictionary attacks and rainbow tables are great ways to quickly crack passwords, but what if the hashed password you are trying to crack isn't in any of those lists? We fall back to the attack of last resort: the Brute Force Attack.\n",
        "\n",
        "In this attack, we will simply try every possible combination of letters and numbers until we find a matching hash value. Theoretically, this attack will always succeed at cracking a password (since all possible combinations are attempted). In practice, strong passwords take so long to crack it's infeasible to actually decipher them using this strategy.\n",
        "\n",
        "For flags 4-6, mimic a brute force cracking algorithm by trying all possible combinations of passwords using the same hashing site as before (https://emn178.github.io/online-tools/sha256.html). To make this task easier, assume all passwords consist only of the letters:\n",
        "\n",
        "\n",
        "```\n",
        "y, w, t, q, r, e\n",
        "```\n",
        "\n",
        "\n",
        "Flag 4 (1 point, password length 1 character):\n",
        "\n",
        "\n",
        "```\n",
        "8e35c2cd3bf6641bdb0e2050b76932cbb2e6034a0ddacc1d9bea82a6ba57f7cf\n",
        "```\n",
        "\n",
        "\n",
        "\n",
        "Flag 5 (3 points, password length 2 characters):\n",
        "\n",
        "```\n",
        "dc7c811b9561739d9b75bb3e9e1715970a868834e62251b0b9ca02e74d0f42c9\n",
        "```\n",
        "\n",
        "\n",
        "Flag 6 (4 points password length 3 characters):\n",
        "\n",
        "\n",
        "```\n",
        "2ec9b234f9794947d51f3528eb36c37d340f7da1d4ca00030649aabd3172bb5b\n",
        "```\n"
      ],
      "metadata": {
        "id": "hPX_e33b7kan"
      }
    },
    {
      "cell_type": "code",
      "source": [
        "FLAG4 = \"plaintext password\"\n",
        "submit_solution(4, FLAG4)"
      ],
      "metadata": {
        "id": "c0fKkP1mTsQW"
      },
      "execution_count": null,
      "outputs": []
    },
    {
      "cell_type": "code",
      "source": [
        "FLAG5 = \"plaintext password\"\n",
        "submit_solution(5, FLAG5)"
      ],
      "metadata": {
        "id": "B_bTLJ4CTsWG"
      },
      "execution_count": null,
      "outputs": []
    },
    {
      "cell_type": "code",
      "source": [
        "FLAG6 = \"plaintext password\"\n",
        "submit_solution(6, FLAG6)"
      ],
      "metadata": {
        "id": "sxfa-FyrT4v1"
      },
      "execution_count": null,
      "outputs": []
    }
  ]
}